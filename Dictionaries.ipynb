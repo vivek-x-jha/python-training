{
 "cells": [
  {
   "cell_type": "markdown",
   "metadata": {},
   "source": [
    "# Python Dictionaries"
   ]
  },
  {
   "cell_type": "code",
   "execution_count": 1,
   "metadata": {},
   "outputs": [],
   "source": [
    "from IPython.display import HTML, display, Image\n",
    "from pprint import pprint\n",
    "import pandas as pd"
   ]
  },
  {
   "cell_type": "markdown",
   "metadata": {},
   "source": [
    "# Overview"
   ]
  },
  {
   "cell_type": "markdown",
   "metadata": {},
   "source": [
    "- [Overview](#Overview)\n",
    "- [Constructor](#Constructor)\n",
    "- [Alternative Constructors](#Alternative-Constructors)\n",
    "- [Access](#Access)\n",
    "- [Modify](#Modify)\n",
    "- [Delete](#Delete)\n",
    "- [Other Methods](#Other-Methods)"
   ]
  },
  {
   "cell_type": "markdown",
   "metadata": {},
   "source": [
    "Dictionaries are a powerful built-in data structure in Python that allow us to work with key-value pairs. Formally, a dictionary is Python's version of a [Hash Table](https://en.wikipedia.org/wiki/Hash_table), which is an implementation of the [Associative Array](https://en.wikipedia.org/wiki/Associative_array) abstract data type."
   ]
  },
  {
   "cell_type": "code",
   "execution_count": 2,
   "metadata": {},
   "outputs": [
    {
     "data": {
      "text/html": [
       "<table><tr><td><img src='./images/HashTable.png' style='height:500px'></td><td><img src='./images/HashTableComplexity.png' style='height:500px'></td></tr></table>"
      ],
      "text/plain": [
       "<IPython.core.display.HTML object>"
      ]
     },
     "metadata": {},
     "output_type": "display_data"
    }
   ],
   "source": [
    "# Both images can be found from https://en.wikipedia.org/wiki/Hash_table\n",
    "display(HTML(\"<table><tr><td><img src='./images/HashTable.png' style='height:500px'></td><td><img src='./images/HashTableComplexity.png' style='height:500px'></td></tr></table>\"))"
   ]
  },
  {
   "cell_type": "markdown",
   "metadata": {},
   "source": [
    "# Constructor"
   ]
  },
  {
   "cell_type": "markdown",
   "metadata": {},
   "source": [
    "Below we create a dictionary called `vivek_jha` with the following key-value pairs:\n",
    "- fullname: Vivek Jha\n",
    "- email: vivek.jha@mu-sigma.com\n",
    "- age: 26\n",
    "- empId: 2301\n",
    "- designation: Associate\n",
    "- gender: Male\n",
    "- account: Walmart.com\n",
    "- languages: Python, SQL, R, VBA"
   ]
  },
  {
   "cell_type": "code",
   "execution_count": 3,
   "metadata": {},
   "outputs": [
    {
     "name": "stdout",
     "output_type": "stream",
     "text": [
      "{'fullname': 'Vivek Jha', 'email': 'vivek.jha@mu-sigma.com', 'age': 26, 'empId': 2301, 'designation': 'Associate', 'gender': 'Male', 'account': 'Walmart.com', 'languages': ['Python', 'SQL', 'R', 'VBA']}\n"
     ]
    }
   ],
   "source": [
    "vivek_jha = {\n",
    "    'fullname': 'Vivek Jha',\n",
    "    'email': 'vivek.jha@mu-sigma.com',\n",
    "    'age': 26,\n",
    "    'empId': 2301,\n",
    "    'designation': 'Associate',\n",
    "    'gender': 'Male',\n",
    "    'account': 'Walmart.com',\n",
    "    'languages': ['Python', 'SQL', 'R', 'VBA']\n",
    "}\n",
    "\n",
    "# Note that printing a dictionary does not preserve the order of the keys - see below\n",
    "print(vivek_jha)"
   ]
  },
  {
   "cell_type": "code",
   "execution_count": 4,
   "metadata": {},
   "outputs": [
    {
     "name": "stdout",
     "output_type": "stream",
     "text": [
      "{'account': 'Walmart.com',\n",
      " 'age': 26,\n",
      " 'designation': 'Associate',\n",
      " 'email': 'vivek.jha@mu-sigma.com',\n",
      " 'empId': 2301,\n",
      " 'fullname': 'Vivek Jha',\n",
      " 'gender': 'Male',\n",
      " 'languages': ['Python', 'SQL', 'R', 'VBA']}\n"
     ]
    }
   ],
   "source": [
    "# if we use pprint.pprint, we can output key-value pairs in alphabetical order of the keys\n",
    "pprint(vivek_jha)"
   ]
  },
  {
   "cell_type": "markdown",
   "metadata": {},
   "source": [
    "# Alternative Constructors"
   ]
  },
  {
   "cell_type": "markdown",
   "metadata": {},
   "source": [
    "We can also construct dictionaries in numerous ways:"
   ]
  },
  {
   "cell_type": "code",
   "execution_count": 25,
   "metadata": {},
   "outputs": [
    {
     "name": "stdout",
     "output_type": "stream",
     "text": [
      "{'account': 'Microsoft',\n",
      " 'age': 24,\n",
      " 'designation': 'Decision Scientist',\n",
      " 'email': 'john.doe@mu-sigma.com',\n",
      " 'empId': 9876,\n",
      " 'fullname': 'John Doe',\n",
      " 'gender': 'Male',\n",
      " 'languages': ['SQL', 'R', 'C++']}\n",
      "{'account': None,\n",
      " 'age': None,\n",
      " 'designation': None,\n",
      " 'email': None,\n",
      " 'empId': None,\n",
      " 'fullname': None,\n",
      " 'gender': None,\n",
      " 'languages': None}\n",
      "{'account': 'Zappos',\n",
      " 'age': 22,\n",
      " 'designation': 'Trainee Decision Scientist',\n",
      " 'email': 'jane.doe@mu-sigma.com',\n",
      " 'empId': 1234,\n",
      " 'fullname': 'Jane Doe',\n",
      " 'gender': 'Female',\n",
      " 'languages': ['SQL', 'R']}\n"
     ]
    }
   ],
   "source": [
    "john_doe = dict(fullname='John Doe',\n",
    "                email='john.doe@mu-sigma.com',\n",
    "                age=24,\n",
    "                empId=9876,\n",
    "                designation='Decision Scientist',\n",
    "                gender='Male',\n",
    "                account='Microsoft',\n",
    "                languages=['SQL', 'R', 'C++'])\n",
    "pprint(john_doe)\n",
    "\n",
    "keys_list = ['fullname', 'email', 'age', 'empId', 'designation', 'gender', 'account', 'languages']\n",
    "\n",
    "employee_template = dict.fromkeys(keys_list)\n",
    "pprint(employee_template)\n",
    "\n",
    "values_list = ['Jane Doe', 'jane.doe@mu-sigma.com', 22, 1234, 'Trainee Decision Scientist', 'Female', 'Zappos', ['SQL', 'R']]\n",
    "\n",
    "jane_doe = dict(zip(keys_list, values_list))\n",
    "pprint(jane_doe)"
   ]
  },
  {
   "cell_type": "markdown",
   "metadata": {},
   "source": [
    "# Access"
   ]
  },
  {
   "cell_type": "markdown",
   "metadata": {},
   "source": [
    "There are 2 standard ways to access dictionary values via its keys:\n",
    "1. `dict[key]` $<=>$ `dict.__getitem__(key)`\n",
    "2. `dict.get(key, default=None)`\n",
    "\n",
    "Both methods are optimized with Time complexity $O(1)$. Below is an example implementation of `get`:\n",
    "```\n",
    "class dict:\n",
    "    def get(self, key, default=None):\n",
    "        try:\n",
    "            return self[key]\n",
    "        except KeyError:\n",
    "            return default\n",
    "```"
   ]
  },
  {
   "cell_type": "code",
   "execution_count": 26,
   "metadata": {},
   "outputs": [
    {
     "name": "stdout",
     "output_type": "stream",
     "text": [
      "Employee: Vivek Jha\n",
      "Languages: ['Python', 'SQL', 'R', 'VBA']\n",
      "Designation: Associate\n",
      "Wage: None\n",
      "Wage: 80000\n"
     ]
    }
   ],
   "source": [
    "emp_name = vivek_jha['fullname']\n",
    "vj_languages = vivek_jha['languages']\n",
    "vj_designation = vivek_jha['designation']\n",
    "vj_wage = vivek_jha.get('wage')\n",
    "vj_wage_dft = vivek_jha.get('wage', 80000)\n",
    "\n",
    "print(f'Employee: {emp_name}')\n",
    "print(f'Languages: {vj_languages}')\n",
    "print(f'Designation: {vj_designation}')\n",
    "print(f'Wage: {vj_wage}')\n",
    "print(f'Wage: {vj_wage_dft}')"
   ]
  },
  {
   "cell_type": "markdown",
   "metadata": {},
   "source": [
    "In the below example, I create an employee directory by nesting dictionaries. Also, note the use of a list comprehension for clean construction."
   ]
  },
  {
   "cell_type": "code",
   "execution_count": 27,
   "metadata": {},
   "outputs": [
    {
     "name": "stdout",
     "output_type": "stream",
     "text": [
      "{1234: {'account': 'Zappos',\n",
      "        'age': 22,\n",
      "        'designation': 'Trainee Decision Scientist',\n",
      "        'email': 'jane.doe@mu-sigma.com',\n",
      "        'empId': 1234,\n",
      "        'fullname': 'Jane Doe',\n",
      "        'gender': 'Female',\n",
      "        'languages': ['SQL', 'R']},\n",
      " 2301: {'account': 'Walmart.com',\n",
      "        'age': 26,\n",
      "        'designation': 'Associate',\n",
      "        'email': 'vivek.jha@mu-sigma.com',\n",
      "        'empId': 2301,\n",
      "        'fullname': 'Vivek Jha',\n",
      "        'gender': 'Male',\n",
      "        'languages': ['Python', 'SQL', 'R', 'VBA']},\n",
      " 9876: {'account': 'Microsoft',\n",
      "        'age': 24,\n",
      "        'designation': 'Decision Scientist',\n",
      "        'email': 'john.doe@mu-sigma.com',\n",
      "        'empId': 9876,\n",
      "        'fullname': 'John Doe',\n",
      "        'gender': 'Male',\n",
      "        'languages': ['SQL', 'R', 'C++']},\n",
      " 9999: {'account': None,\n",
      "        'age': None,\n",
      "        'designation': None,\n",
      "        'email': None,\n",
      "        'empId': None,\n",
      "        'fullname': None,\n",
      "        'gender': None,\n",
      "        'languages': None}}\n"
     ]
    }
   ],
   "source": [
    "employees = [vivek_jha, john_doe, jane_doe, employee_template]\n",
    "empIds = [9999 if emp['empId'] is None else emp['empId'] for emp in employees]\n",
    "\n",
    "employee_directory = dict(zip(empIds, employees))\n",
    "pprint(employee_directory)"
   ]
  },
  {
   "cell_type": "markdown",
   "metadata": {},
   "source": [
    "# Modify"
   ]
  },
  {
   "cell_type": "markdown",
   "metadata": {},
   "source": [
    "There are 3 standard ways to modify existing key-value pairs or add new ones:\n",
    "1. `dict[key] = value` $<=>$ `dict.__setitem__(key, value)`\n",
    "2. `dict.setdefault(key)`\n",
    "3. `dict.update(dict2)`\n",
    "\n",
    "The `setitem` and `setdefault` methods are optimized at $O(1)$.\n",
    "The `update` method is at $O(k)$ where k is the number of keys of the `other` dictionary\n",
    "\n",
    "Below are example implementations:\n",
    "```\n",
    "class dict:\n",
    "    def get(self, key, default=None):\n",
    "        try:\n",
    "            return self[key]\n",
    "        except KeyError:\n",
    "            return default\n",
    "\n",
    "    def update(self, other):\n",
    "        for key in other:\n",
    "            self[key] = other[key]\n",
    "\n",
    "    def setdefault(self, key, value=None):\n",
    "        if key not in self:\n",
    "            self[key] = value\n",
    "        return self[key]\n",
    "\n",
    "```"
   ]
  },
  {
   "cell_type": "code",
   "execution_count": 28,
   "metadata": {},
   "outputs": [],
   "source": [
    "corporate_ladder = {\n",
    "    'onsite': ('Junior Associate',\n",
    "               'Associate',\n",
    "               'Engagement Manager',\n",
    "               'Senior Engagement Manager',\n",
    "               'Associate Regional Head',\n",
    "               'Regional Head',\n",
    "               'Vice President',\n",
    "               'CEO'),\n",
    "    'offshore': ('Trainee Decision Scientist',\n",
    "                 'Decision Scientist',\n",
    "                 'Apprentice Leader',\n",
    "                 'Senior Apprentice Leader',\n",
    "                 'Associate Regional Head',\n",
    "                 'Regional Head',\n",
    "                 'Vice President',\n",
    "                 'CEO')\n",
    "}\n",
    "\n",
    "\n",
    "def promote_employee(directory, empId):\n",
    "    try:\n",
    "        emp = directory[empId]\n",
    "        name = emp['fullname']\n",
    "        current_title = emp['designation']\n",
    "        \n",
    "        onsite_ladder = corporate_ladder['onsite']\n",
    "        offshore_ladder = corporate_ladder['offshore']\n",
    "        hierarchy =  offshore_ladder if current_title in offshore_ladder else onsite_ladder\n",
    "        \n",
    "        new_title = hierarchy[hierarchy.index(current_title) + 1]\n",
    "        emp['designation'] = new_title\n",
    "        print(f'{name} has been promoted from {current_title} to {new_title}!')\n",
    "    except KeyError:\n",
    "        errormsg = f'Could not find employee with empId: {empId}'\n",
    "        print(errormsg)\n"
   ]
  },
  {
   "cell_type": "code",
   "execution_count": 29,
   "metadata": {},
   "outputs": [
    {
     "name": "stdout",
     "output_type": "stream",
     "text": [
      "1234\n",
      "Trainee Decision Scientist\n",
      "Jane Doe has been promoted from Trainee Decision Scientist to Decision Scientist!\n",
      "Decision Scientist\n",
      "Could not find employee with empId: 1111\n"
     ]
    }
   ],
   "source": [
    "jane_doe_empId = jane_doe['empId']\n",
    "jane_doe_old_title = jane_doe['designation']\n",
    "print(jane_doe_empId)\n",
    "print(jane_doe_old_title)\n",
    "\n",
    "promote_employee(employee_directory, jane_doe_empId)\n",
    "print(jane_doe['designation'])\n",
    "promote_employee(employee_directory, 1111)"
   ]
  },
  {
   "cell_type": "code",
   "execution_count": 22,
   "metadata": {},
   "outputs": [
    {
     "name": "stdout",
     "output_type": "stream",
     "text": [
      "{'account': 'Qualcomm',\n",
      " 'age': 28,\n",
      " 'designation': 'Apprentice Leader',\n",
      " 'email': 'sejal.chopra@mu-sigma.com',\n",
      " 'empId': 9999,\n",
      " 'fullname': 'Sejal Chopra',\n",
      " 'gender': 'Female',\n",
      " 'languages': ['Python', 'SQL', 'R', 'Java']}\n"
     ]
    }
   ],
   "source": [
    "new_emp_values = ['Sejal Chopra', 'sejal.chopra@mu-sigma.com', 28, 9999, 'Apprentice Leader', 'Female', 'Qualcomm', ['Python', 'SQL', 'R', 'Java']]\n",
    "new_emp = dict(zip(keys_list, new_emp_values))\n",
    "\n",
    "employee_directory[9999].update(new_emp)\n",
    "pprint(employee_directory[9999])"
   ]
  },
  {
   "cell_type": "markdown",
   "metadata": {},
   "source": [
    "# Delete"
   ]
  },
  {
   "cell_type": "markdown",
   "metadata": {},
   "source": [
    "There are 2 standard ways to delete existing key-value pairs:\n",
    "1. `del dict[key]` $<=>$ `dict.__delitem__(key)`\n",
    "2. `dict.pop(key[, default])`\n",
    "\n",
    "Both methods are optimized at $O(1)$, but note that `pop` returns the value associated with the deleted key. If the key does not exist, and `default` is given, will return that value; otherwise, will throw a KeyError. Below are example implementations:\n",
    "```\n",
    "class dict:\n",
    "    def get(self, key, default=None):\n",
    "        try:\n",
    "            return self[key]\n",
    "        except KeyError:\n",
    "            return default\n",
    "\n",
    "    def update(self, other):\n",
    "        for key in other:\n",
    "            self[key] = other[key]\n",
    "\n",
    "    def setdefault(self, key, value=None):\n",
    "        if key not in self:\n",
    "            self[key] = value\n",
    "        return self[key]\n",
    "\n",
    "```"
   ]
  },
  {
   "cell_type": "code",
   "execution_count": 37,
   "metadata": {},
   "outputs": [],
   "source": [
    "# Put in code here to show examples of __delitem__, pop"
   ]
  },
  {
   "cell_type": "markdown",
   "metadata": {},
   "source": [
    "# Other Methods"
   ]
  },
  {
   "cell_type": "code",
   "execution_count": null,
   "metadata": {},
   "outputs": [],
   "source": []
  }
 ],
 "metadata": {
  "kernelspec": {
   "display_name": "Python 3",
   "language": "python",
   "name": "python3"
  },
  "language_info": {
   "codemirror_mode": {
    "name": "ipython",
    "version": 3
   },
   "file_extension": ".py",
   "mimetype": "text/x-python",
   "name": "python",
   "nbconvert_exporter": "python",
   "pygments_lexer": "ipython3",
   "version": "3.6.3"
  }
 },
 "nbformat": 4,
 "nbformat_minor": 2
}
