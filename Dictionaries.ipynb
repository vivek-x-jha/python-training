{
 "cells": [
  {
   "cell_type": "markdown",
   "metadata": {},
   "source": [
    "# Python Dictionaries"
   ]
  },
  {
   "cell_type": "markdown",
   "metadata": {},
   "source": [
    "### Dictionaries are a powerful built-in data structure in Python that allow us to work with key-value pairs\n",
    "\n",
    "In computer science lingo, a dictionary is an implementation of the hash-map abstract data type"
   ]
  },
  {
   "cell_type": "markdown",
   "metadata": {},
   "source": [
    "## Constructor"
   ]
  },
  {
   "cell_type": "markdown",
   "metadata": {},
   "source": [
    "Below we create a dictionary called `vivek_jha` with the following key-value pairs:\n",
    "- fullname: Vivek Jha\n",
    "- email: vivek.jha@mu-sigma.com\n",
    "- age: 26\n",
    "- empId: 2301\n",
    "- designation: Associate\n",
    "- gender: Male\n",
    "- account: Walmart.com\n",
    "- languages: Python, SQL, R, VBA"
   ]
  },
  {
   "cell_type": "code",
   "execution_count": 1,
   "metadata": {},
   "outputs": [
    {
     "name": "stdout",
     "output_type": "stream",
     "text": [
      "{'fullname': 'Vivek Jha', 'email': 'vivek.jha@mu-sigma.com', 'age': 26, 'empId': 2301, 'designation': 'Associate', 'gender': 'Male', 'account': 'Walmart.com', 'languages': ['Python', 'SQL', 'R', 'VBA']}\n"
     ]
    }
   ],
   "source": [
    "vivek_jha = {\n",
    "    'fullname': 'Vivek Jha',\n",
    "    'email': 'vivek.jha@mu-sigma.com',\n",
    "    'age': 26,\n",
    "    'empId': 2301,\n",
    "    'designation': 'Associate',\n",
    "    'gender': 'Male',\n",
    "    'account': 'Walmart.com',\n",
    "    'languages': ['Python', 'SQL', 'R', 'VBA']\n",
    "}\n",
    "\n",
    "# Note that printing a dictionary does not preserve the order of the keys - see below\n",
    "print(vivek_jha)"
   ]
  },
  {
   "cell_type": "code",
   "execution_count": 2,
   "metadata": {},
   "outputs": [
    {
     "name": "stdout",
     "output_type": "stream",
     "text": [
      "{'account': 'Walmart.com',\n",
      " 'age': 26,\n",
      " 'designation': 'Associate',\n",
      " 'email': 'vivek.jha@mu-sigma.com',\n",
      " 'empId': 2301,\n",
      " 'fullname': 'Vivek Jha',\n",
      " 'gender': 'Male',\n",
      " 'languages': ['Python', 'SQL', 'R', 'VBA']}\n"
     ]
    }
   ],
   "source": [
    "# if we use pprint.pprint, we can output key-value pairs in alphabetical order of the keys\n",
    "from pprint import pprint\n",
    "pprint(vivek_jha)"
   ]
  },
  {
   "cell_type": "markdown",
   "metadata": {},
   "source": [
    "## Alternative Constructors"
   ]
  },
  {
   "cell_type": "markdown",
   "metadata": {},
   "source": [
    "We can also construct dictionaries in numerous ways"
   ]
  },
  {
   "cell_type": "code",
   "execution_count": 5,
   "metadata": {},
   "outputs": [
    {
     "name": "stdout",
     "output_type": "stream",
     "text": [
      "{'account': 'Microsoft',\n",
      " 'age': 24,\n",
      " 'designation': 'Decision Scientist',\n",
      " 'email': 'john.doe@mu-sigma.com',\n",
      " 'empId': 9876,\n",
      " 'fullname': 'John Doe',\n",
      " 'gender': 'Male',\n",
      " 'languages': ['SQL', 'R', 'C++']}\n",
      "{'account': None,\n",
      " 'age': None,\n",
      " 'designation': None,\n",
      " 'email': None,\n",
      " 'empId': None,\n",
      " 'fullname': None,\n",
      " 'gender': None,\n",
      " 'languages': None}\n",
      "{'account': 'Zappos',\n",
      " 'age': 22,\n",
      " 'designation': 'Trainee Decision Scientist',\n",
      " 'email': 'jane.doe@mu-sigma.com',\n",
      " 'empId': 1234,\n",
      " 'fullname': 'Jane Doe',\n",
      " 'gender': 'Female',\n",
      " 'languages': ['SQL', 'R']}\n"
     ]
    }
   ],
   "source": [
    "john_doe = dict(fullname='John Doe',\n",
    "                email='john.doe@mu-sigma.com',\n",
    "                age=24,\n",
    "                empId=9876,\n",
    "                designation='Decision Scientist',\n",
    "                gender='Male',\n",
    "                account='Microsoft',\n",
    "                languages=['SQL', 'R', 'C++'])\n",
    "pprint(john_doe)\n",
    "\n",
    "keys_list = ['fullname', 'email', 'age', 'empId', 'designation', 'gender', 'account', 'languages']\n",
    "\n",
    "employee_template = dict.fromkeys(keys_list)\n",
    "pprint(employee_template)\n",
    "\n",
    "values_list = ['Jane Doe', 'jane.doe@mu-sigma.com', 22, 1234, 'Trainee Decision Scientist', 'Female', 'Zappos', ['SQL', 'R']]\n",
    "\n",
    "jane_doe = dict(zip(keys_list, values_list))\n",
    "pprint(jane_doe)"
   ]
  },
  {
   "cell_type": "markdown",
   "metadata": {},
   "source": [
    "## Access"
   ]
  },
  {
   "cell_type": "markdown",
   "metadata": {},
   "source": [
    "There are 2 standard ways to access dictionary values via its keys:\n",
    "1. `dict[key]` $<=>$ `dict.__getitem__(key)`\n",
    "2. `dict.get(key, default=None)`\n",
    "\n",
    "Both methods are optimized with Time complexity $O(1)$. Below are example implementations\n",
    "```\n",
    "class MyDict(dict):\n",
    "\n",
    "    def __getitem__(self, key):\n",
    "        keys = list(self.keys())\n",
    "        values = list(self.values())\n",
    "\n",
    "        if key in keys:\n",
    "            return values[keys.index(key)]\n",
    "        else:\n",
    "            raise KeyError\n",
    "\n",
    "    def get(self, key, default=None):\n",
    "        try:\n",
    "            return self[key]\n",
    "        except KeyError:\n",
    "            return default\n",
    "```"
   ]
  },
  {
   "cell_type": "code",
   "execution_count": 19,
   "metadata": {},
   "outputs": [
    {
     "name": "stdout",
     "output_type": "stream",
     "text": [
      "Employee: Vivek Jha\n",
      "Languages: ['Python', 'SQL', 'R', 'VBA']\n",
      "Designation: Associate\n",
      "Wage: None\n",
      "Wage: 80000\n"
     ]
    }
   ],
   "source": [
    "emp_name = vivek_jha['fullname']\n",
    "vj_languages = vivek_jha['languages']\n",
    "vj_designation = vivek_jha['designation']\n",
    "vj_wage = vivek_jha.get('wage')\n",
    "vj_wage_dft = vivek_jha.get('wage', 80000)\n",
    "\n",
    "print(f'Employee: {emp_name}')\n",
    "print(f'Languages: {vj_languages}')\n",
    "print(f'Designation: {vj_designation}')\n",
    "print(f'Wage: {vj_wage}')\n",
    "print(f'Wage: {vj_wage_dft}')"
   ]
  },
  {
   "cell_type": "markdown",
   "metadata": {},
   "source": [
    "## Modify"
   ]
  },
  {
   "cell_type": "markdown",
   "metadata": {},
   "source": [
    "There are 2 standard ways to modify existing key-value pairs or add new ones:\n",
    "1. `dict[key] = value` $<=>$ `dict.__setitem__(key, value)`\n",
    "2. `dict.update(dict2)`\n",
    "\n",
    "Both methods are optimized with Time complexity $O(1)$. Below are example implementations\n",
    "```\n",
    "class dict:\n",
    "\n",
    "    def __setitem__(self, key, value):\n",
    "        keys = list(self.keys())\n",
    "        values = list(self.values())\n",
    "\n",
    "        values[keys.index(key)] = value\n",
    "\n",
    "    def update(self, other):\n",
    "        for key in other.keys():\n",
    "            self[key] = other[key]\n",
    "\n",
    "    def setdefault(self, key, value=None):\n",
    "            if key not in self:\n",
    "                self[key] = value\n",
    "            return self[key]\n",
    "\n",
    "```"
   ]
  }
 ],
 "metadata": {
  "kernelspec": {
   "display_name": "Python 3",
   "language": "python",
   "name": "python3"
  },
  "language_info": {
   "codemirror_mode": {
    "name": "ipython",
    "version": 3
   },
   "file_extension": ".py",
   "mimetype": "text/x-python",
   "name": "python",
   "nbconvert_exporter": "python",
   "pygments_lexer": "ipython3",
   "version": "3.6.3"
  }
 },
 "nbformat": 4,
 "nbformat_minor": 2
}
