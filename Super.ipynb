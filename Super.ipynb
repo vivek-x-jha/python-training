{
 "cells": [
  {
   "cell_type": "markdown",
   "metadata": {},
   "source": [
    "# Explaining Python's Super Method"
   ]
  },
  {
   "cell_type": "markdown",
   "metadata": {},
   "source": [
    "I use multiple examples including:\n",
    "\n",
    "- [Raymond Hettinger - Super considered super! (PyCon 2015)](https://www.youtube.com/watch?v=EiOglTERPEo)"
   ]
  },
  {
   "cell_type": "code",
   "execution_count": null,
   "metadata": {},
   "outputs": [],
   "source": [
    "class DoughFactory:\n",
    "\n",
    "    @staticmethod\n",
    "    def get_dough():\n",
    "        return 'insecticide treated wheat dough'\n",
    "\n",
    "class Pizza(DoughFactory):\n",
    "\n",
    "    def order_pizza(self, *toppings):\n",
    "        print('Getting dough')\n",
    "        dough = DoughFactory"
   ]
  }
 ],
 "metadata": {
  "kernelspec": {
   "display_name": "Python 3",
   "language": "python",
   "name": "python3"
  },
  "language_info": {
   "codemirror_mode": {
    "name": "ipython",
    "version": 3
   },
   "file_extension": ".py",
   "mimetype": "text/x-python",
   "name": "python",
   "nbconvert_exporter": "python",
   "pygments_lexer": "ipython3",
   "version": "3.6.3"
  }
 },
 "nbformat": 4,
 "nbformat_minor": 2
}
