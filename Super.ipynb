{
 "cells": [
  {
   "cell_type": "markdown",
   "metadata": {},
   "source": [
    "# Explaining Python's Super Method"
   ]
  },
  {
   "cell_type": "markdown",
   "metadata": {},
   "source": [
    "I use multiple examples including:\n",
    "\n",
    "- [Raymond Hettinger - Super considered super! (PyCon 2015)](https://www.youtube.com/watch?v=EiOglTERPEo)"
   ]
  },
  {
   "cell_type": "code",
   "execution_count": 24,
   "metadata": {},
   "outputs": [],
   "source": [
    "class DoughFactory:\n",
    "    \n",
    "    @staticmethod\n",
    "    def get_dough():\n",
    "        return 'insecticide treated wheat dough'"
   ]
  },
  {
   "cell_type": "code",
   "execution_count": 33,
   "metadata": {},
   "outputs": [],
   "source": [
    "class Pizza(DoughFactory):\n",
    "    \n",
    "    def order_pizza(self, *toppings):\n",
    "        print('Getting dough')\n",
    "        dough = super().get_dough()\n",
    "        print(f'Making pie with {dough}')\n",
    "        for topping in toppings:\n",
    "            print(f'Adding: {topping}')"
   ]
  },
  {
   "cell_type": "code",
   "execution_count": 34,
   "metadata": {},
   "outputs": [],
   "source": [
    "class OrganicDoughFactory(DoughFactory):\n",
    "\n",
    "    @staticmethod\n",
    "    def get_dough():\n",
    "        return 'pure untreated wheat dough'"
   ]
  },
  {
   "cell_type": "code",
   "execution_count": 35,
   "metadata": {},
   "outputs": [],
   "source": [
    "class OrganicPizza(Pizza, OrganicDoughFactory): pass"
   ]
  },
  {
   "cell_type": "code",
   "execution_count": 36,
   "metadata": {},
   "outputs": [
    {
     "name": "stdout",
     "output_type": "stream",
     "text": [
      "Getting dough\n",
      "Making pie with insecticide treated wheat dough\n",
      "Adding: Pepperoni\n",
      "Adding: Bell Pepper\n"
     ]
    }
   ],
   "source": [
    "p = Pizza()\n",
    "p.order_pizza('Pepperoni', 'Bell Pepper')"
   ]
  },
  {
   "cell_type": "code",
   "execution_count": 38,
   "metadata": {},
   "outputs": [
    {
     "name": "stdout",
     "output_type": "stream",
     "text": [
      "Getting dough\n",
      "Making pie with pure untreated wheat dough\n",
      "Adding: Sausage\n",
      "Adding: Mushroom\n"
     ]
    }
   ],
   "source": [
    "op = OrganicPizza()\n",
    "op.order_pizza('Sausage', 'Mushroom')"
   ]
  },
  {
   "cell_type": "code",
   "execution_count": 41,
   "metadata": {},
   "outputs": [
    {
     "name": "stdout",
     "output_type": "stream",
     "text": [
      "Help on class OrganicPizza in module __main__:\n",
      "\n",
      "class OrganicPizza(Pizza, OrganicDoughFactory)\n",
      " |  Method resolution order:\n",
      " |      OrganicPizza\n",
      " |      Pizza\n",
      " |      OrganicDoughFactory\n",
      " |      DoughFactory\n",
      " |      builtins.object\n",
      " |  \n",
      " |  Methods inherited from Pizza:\n",
      " |  \n",
      " |  order_pizza(self, *toppings)\n",
      " |  \n",
      " |  ----------------------------------------------------------------------\n",
      " |  Static methods inherited from OrganicDoughFactory:\n",
      " |  \n",
      " |  get_dough()\n",
      " |  \n",
      " |  ----------------------------------------------------------------------\n",
      " |  Data descriptors inherited from DoughFactory:\n",
      " |  \n",
      " |  __dict__\n",
      " |      dictionary for instance variables (if defined)\n",
      " |  \n",
      " |  __weakref__\n",
      " |      list of weak references to the object (if defined)\n",
      "\n"
     ]
    }
   ],
   "source": [
    "help(OrganicPizza)"
   ]
  },
  {
   "cell_type": "code",
   "execution_count": null,
   "metadata": {},
   "outputs": [],
   "source": []
  }
 ],
 "metadata": {
  "kernelspec": {
   "display_name": "Python 3",
   "language": "python",
   "name": "python3"
  },
  "language_info": {
   "codemirror_mode": {
    "name": "ipython",
    "version": 3
   },
   "file_extension": ".py",
   "mimetype": "text/x-python",
   "name": "python",
   "nbconvert_exporter": "python",
   "pygments_lexer": "ipython3",
   "version": "3.6.3"
  }
 },
 "nbformat": 4,
 "nbformat_minor": 2
}
